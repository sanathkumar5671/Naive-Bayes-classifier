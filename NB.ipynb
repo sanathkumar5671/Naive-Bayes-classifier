{
 "cells": [
  {
   "cell_type": "raw",
   "metadata": {},
   "source": [
    "NAME: Sanathkumar Adavayya Swamy"
   ]
  },
  {
   "cell_type": "code",
   "execution_count": 54,
   "metadata": {},
   "outputs": [],
   "source": [
    "# This function should open a data file in csv, and transform it into a usable format\n",
    "import pandas as pd\n",
    "def load_data():\n",
    "    dataset = pd.read_csv('student.csv')\n",
    "    label_p = dataset[\"Grade\"] #Label is the value or a target which I have to aim to predict in this classifier\n",
    "    features_p = dataset.iloc[:,0:29] #Features of the dataset is split with .iloc function in Pandas\n",
    "    \n",
    "    #Converting the string values to numberic with refernce to their frequency \n",
    "    \n",
    "    numeric_features_p = features_p.apply(lambda feature: pd.factorize(feature)[0])\n",
    "    numeric_labels_p = pd.factorize(label_p)[0]\n",
    "    dataset.iloc[:,0:29] = numeric_features_p\n",
    "    dataset[\"Grade\"] = numeric_labels_p\n",
    "    \n",
    "    #the Data are converted numeric values accroding to their occurence in the dataset\n",
    "    \n",
    "    return dataset"
   ]
  },
  {
   "cell_type": "code",
   "execution_count": 55,
   "metadata": {},
   "outputs": [],
   "source": [
    "# This function should split a data set into a training set and hold-out test set\n",
    "from sklearn.model_selection import train_test_split\n",
    "def split_data(t_data):\n",
    "    # The features and values are split into X=features y=values(\"Grade\")\n",
    "    X = load_data() \n",
    "    X_train, X_test = train_test_split(X,test_size=0.2,random_state = 0)\n",
    "    if t_data == 'X_train':\n",
    "        return X_train\n",
    "    elif t_data == 'X_test':\n",
    "        return X_test\n",
    "    return 0    "
   ]
  },
  {
   "cell_type": "code",
   "execution_count": 56,
   "metadata": {},
   "outputs": [],
   "source": [
    "# This function should build a supervised NB model     \n",
    "def train(X):\n",
    "    #the ds variable is stroing all the columns\n",
    "    ds = X.iloc[:,0:29].columns\n",
    "    ds_val =ds.values.tolist()\n",
    "    df = []\n",
    "    lis_val = []\n",
    "    liklihood_val = []\n",
    "    \n",
    "    #As I know that there are 6 different class function in our lable.\n",
    "    #I am going to count the total values of each class present in the label\n",
    "    \n",
    "    for x in range(6):\n",
    "        k = X[X['Grade'] == x].count()\n",
    "        k_val = k.values.tolist()\n",
    "        lis_val.append(k_val[x])\n",
    "    \n",
    "    # Now I know the prior values of the lable and there count as well. \n",
    "    #Now I can find the Liklihood of the values by counting the values present in each attributes and getting \n",
    "    #the correct Grade value and the attribute values  \n",
    "    \n",
    "    \n",
    "    for x in range(len(ds_val)):\n",
    "        \n",
    "        #alpha and M_val are used for laplace smoothing \n",
    "        \n",
    "        M_val = len(set(X[ds_val[x]].values))\n",
    "        alpha = 1 \n",
    "        for m in range(len(set(X[ds_val[x]].values))):\n",
    "            for y in range(6):\n",
    "                df = X[(X['Grade'].values == y) & (X[ds_val[x]].values == m)].count()\n",
    "                df_val = df.values.tolist()\n",
    "                \n",
    "                #Laplace Smoothing is applied to the values alpha and M_val, where alpha is 1 and M_val is the how much x attribute values can be taken\n",
    "                \n",
    "                val = float((alpha + df_val[y])/(M_val * lis_val[y]))\n",
    "                liklihood_val.append([ds_val[x],m, y , val])\n",
    "                # finally the liklihood values are returned from the fuction in a list of lists\n",
    "    return liklihood_val\n"
   ]
  },
  {
   "cell_type": "code",
   "execution_count": 57,
   "metadata": {},
   "outputs": [],
   "source": [
    "#Since train() function takes longer time to execte, I have stored these values in a list and I have stored the priors in a seperate list outside the train function to make it more useable \n",
    "train_val = train(split_data('X_train'))\n",
    "lis_grade_count_val = []\n",
    "priors_val = []\n",
    "for x in range(6):\n",
    "        grade_count = split_data('X_train')[split_data('X_train')['Grade'] == x].count()\n",
    "        grade_count_val = grade_count.values.tolist()\n",
    "        lis_grade_count_val.append(grade_count_val[x])\n",
    "for y in range(len(lis_grade_count_val)):\n",
    "    priors_val.append(lis_grade_count_val[y]/sum(lis_grade_count_val))"
   ]
  },
  {
   "cell_type": "code",
   "execution_count": 58,
   "metadata": {},
   "outputs": [],
   "source": [
    "# This function should predict the class for an instance or a set of instances, based on a trained model \n",
    "def predict(Y):\n",
    "    ls = Y.iloc[:,0:29].columns\n",
    "    col_val = ls.values.tolist()\n",
    "    lis_col_val = []\n",
    "    lis_train_val = []\n",
    "    fm = Y.iloc[:,0:29]\n",
    "    fm_val = fm.values.tolist()\n",
    "    test_values = []\n",
    "    \n",
    "    #It would be easier to compare the values in different list according to classess\n",
    "    \n",
    "    grade_0_lis = []\n",
    "    grade_1_lis = []\n",
    "    grade_2_lis = []\n",
    "    grade_3_lis = []\n",
    "    grade_4_lis = []\n",
    "    grade_5_lis = []\n",
    "    \n",
    "    #predicting the test data\n",
    "    \n",
    "    for z in range(6):\n",
    "        for x in range(len(fm_val)):\n",
    "            mul_1_val = 1.0\n",
    "            for y in range(len(col_val)):\n",
    "                for m in range(len(train_val)):\n",
    "                    if (col_val[y] == train_val[m][0]) & (fm_val[x][y] == train_val[m][1]) & (train_val[m][2] == z):\n",
    "                        mul_1_val = mul_1_val * train_val[m][3]\n",
    "            test_values.append([z,mul_1_val *  priors_val[z]])\n",
    "    max_lis = []\n",
    "    \n",
    "    #Now I can store this predicted data according to each classes for comparision \n",
    "    \n",
    "    for x in range(len(test_values)):\n",
    "        if (test_values[x][0] == 0):\n",
    "            grade_0_lis.append(test_values[x][1])\n",
    "        elif (test_values[x][0] == 1):\n",
    "            grade_1_lis.append(test_values[x][1])\n",
    "        elif (test_values[x][0] == 2):\n",
    "            grade_2_lis.append(test_values[x][1])\n",
    "        elif (test_values[x][0] == 3):\n",
    "            grade_3_lis.append(test_values[x][1])\n",
    "        elif (test_values[x][0] == 4):\n",
    "            grade_4_lis.append(test_values[x][1])\n",
    "        elif (test_values[x][0] == 5):\n",
    "            grade_5_lis.append(test_values[x][1])\n",
    "\n",
    "            # comparing the data in each list accoring to there highest values and storing them in a list\n",
    "            \n",
    "    for y in range(len(grade_0_lis)):\n",
    "        #max_val stores the max value from all the list which are stored in the Grade for each row\n",
    "        max_val = max(grade_0_lis[y], grade_1_lis[y],grade_2_lis[y],grade_3_lis[y],grade_4_lis[y],grade_5_lis[y])\n",
    "        if (max_val  == grade_0_lis[y]):\n",
    "            max_lis.append(0)\n",
    "        elif (max_val  == grade_1_lis[y]):\n",
    "            max_lis.append(1)\n",
    "        elif (max_val  == grade_2_lis[y]):\n",
    "            max_lis.append(2)\n",
    "        elif (max_val  == grade_3_lis[y]):\n",
    "            max_lis.append(3)\n",
    "        elif (max_val  == grade_4_lis[y]):\n",
    "            max_lis.append(4)\n",
    "        elif (max_val  == grade_5_lis[y]):\n",
    "            max_lis.append(5)\n",
    "            \n",
    "# max_lis returns the predicted grade of the test data\n",
    "\n",
    "    return max_lis"
   ]
  },
  {
   "cell_type": "code",
   "execution_count": 59,
   "metadata": {},
   "outputs": [],
   "source": [
    "# This function should evaluate a set of predictions in terms of accuracy\n",
    "def evaluate(Y):\n",
    "    pre_test_val = predict(Y)\n",
    "    actuall_test_val = []\n",
    "    actuall_test = Y['Grade']\n",
    "    actuall_test_val = actuall_test.values.tolist()\n",
    "    pos = 0\n",
    "    neg = 0\n",
    "    lis_pos = []\n",
    "    lis_neg = []\n",
    "    for x in range(len(actuall_test_val)):\n",
    "        if (actuall_test_val[x] == pre_test_val[x]):\n",
    "            pos = pos + 1\n",
    "            lis_pos.append(x)\n",
    "        else:\n",
    "            neg = neg +1\n",
    "            lis_neg.append(x)\n",
    "    val = set(Y.count())\n",
    "    lis_val = list(val)\n",
    "    accuracy = (pos/lis_val[0]) * 100\n",
    "    return (round(accuracy,3))"
   ]
  },
  {
   "cell_type": "code",
   "execution_count": 60,
   "metadata": {},
   "outputs": [
    {
     "data": {
      "text/plain": [
       "19.231"
      ]
     },
     "execution_count": 60,
     "metadata": {},
     "output_type": "execute_result"
    }
   ],
   "source": [
    "evaluate(split_data('X_test'))"
   ]
  },
  {
   "cell_type": "code",
   "execution_count": 61,
   "metadata": {},
   "outputs": [
    {
     "data": {
      "image/png": "[encoded data removed]",
      "text/plain": [
       "<Figure size 432x288 with 1 Axes>"
      ]
     },
     "metadata": {
      "needs_background": "light"
     },
     "output_type": "display_data"
    },
    {
     "name": "stdout",
     "output_type": "stream",
     "text": [
      "              precision    recall  f1-score   support\n",
      "\n",
      "           0       0.50      0.10      0.16        21\n",
      "           1       0.56      0.11      0.18        46\n",
      "           2       0.46      0.48      0.47        23\n",
      "           3       0.50      0.11      0.18        28\n",
      "           4       0.06      1.00      0.11         4\n",
      "           5       0.00      0.00      0.00         8\n",
      "\n",
      "    accuracy                           0.19       130\n",
      "   macro avg       0.35      0.30      0.18       130\n",
      "weighted avg       0.47      0.19      0.21       130\n",
      "\n"
     ]
    }
   ],
   "source": [
    "# Question 2 B\n",
    "\n",
    "import matplotlib.pyplot as plt\n",
    "from sklearn.metrics import confusion_matrix\n",
    "from sklearn.metrics import classification_report\n",
    "actuall_test = split_data('X_test')['Grade']\n",
    "actuall_test_val = actuall_test.values.tolist()\n",
    "pre_test_val = predict(split_data('X_test'))\n",
    "\n",
    "#creating a confusion matrix using the sklearn library\n",
    "\n",
    "cf = confusion_matrix(actuall_test_val,pre_test_val)\n",
    "\n",
    "#I am going to plot the matrix values in a graph to understand it better\n",
    "\n",
    "plt.imshow(cf, cmap='binary', interpolation='None')\n",
    "plt.title('CONFUSION MATRIX')\n",
    "plt.xlabel('Predicted')\n",
    "plt.ylabel('Actuall')\n",
    "plt.show()\n",
    "\n",
    "#I am going to retrieve all the information of the predicted and acctual values using the sklearn library\n",
    "\n",
    "print(classification_report(actuall_test_val, pre_test_val, labels=[0, 1, 2, 3, 4, 5]))"
   ]
  },
  {
   "cell_type": "code",
   "execution_count": 62,
   "metadata": {},
   "outputs": [],
   "source": [
    "def cross_validation():\n",
    "    import pandas as pd\n",
    "    from sklearn.model_selection import KFold\n",
    "    import numpy as np\n",
    "    from sklearn.metrics import accuracy_score\n",
    "    from sklearn import tree\n",
    "    import matplotlib.pyplot as plt\n",
    "    import seaborn as sns\n",
    "    X = load_data()\n",
    "    # KFold Cross Validation approach\n",
    "    kf = KFold(n_splits=5,shuffle=False)\n",
    "    kf.split(X)    \n",
    "    accuracy_list = []\n",
    "    # Iterate over each train-test split\n",
    "    for train_index, test_index in kf.split(X):\n",
    "        # Split train-test\n",
    "        X_train, X_test = X.iloc[train_index], X.iloc[test_index]\n",
    "        train(X_train)\n",
    "        train_val = train(X_train)\n",
    "        lis_grade_count_val = []\n",
    "        priors_val = []\n",
    "        for x in range(6):\n",
    "            grade_count = X_train[X_train['Grade'] == x].count()\n",
    "            grade_count_val = grade_count.values.tolist()\n",
    "            lis_grade_count_val.append(grade_count_val[x])\n",
    "        for y in range(len(lis_grade_count_val)):\n",
    "            priors_val.append(lis_grade_count_val[y]/sum(lis_grade_count_val))\n",
    "    \n",
    "        predict(X_test)\n",
    "        accuracy_list.append(evaluate(X_test))\n",
    "\n",
    "    return (accuracy_list)"
   ]
  },
  {
   "cell_type": "code",
   "execution_count": 63,
   "metadata": {},
   "outputs": [
    {
     "data": {
      "text/plain": [
       "[23.077, 23.846, 26.154, 21.538, 30.233]"
      ]
     },
     "execution_count": 63,
     "metadata": {},
     "output_type": "execute_result"
    }
   ],
   "source": [
    "cross_validation()"
   ]
  }
 ],
 "metadata": {
  "kernelspec": {
   "display_name": "Python 3",
   "language": "python",
   "name": "python3"
  },
  "language_info": {
   "codemirror_mode": {
    "name": "ipython",
    "version": 3
   },
   "file_extension": ".py",
   "mimetype": "text/x-python",
   "name": "python",
   "nbconvert_exporter": "python",
   "pygments_lexer": "ipython3",
   "version": "3.7.6"
  }
 },
 "nbformat": 4,
 "nbformat_minor": 2
}
